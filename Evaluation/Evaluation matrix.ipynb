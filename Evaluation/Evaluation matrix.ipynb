{
 "cells": [
  {
   "cell_type": "markdown",
   "id": "e157a094",
   "metadata": {},
   "source": [
    "# Accuracy"
   ]
  },
  {
   "cell_type": "code",
   "execution_count": 1,
   "id": "ffe551ca",
   "metadata": {},
   "outputs": [],
   "source": [
    "from sklearn import metrics\n",
    "l1 = [0,1,1,1,0,0,0,1]\n",
    "l2 = [0,1,0,1,0,1,0,0]\n",
    "train_accuracy = metrics.accuracy_score(l1,l2)"
   ]
  },
  {
   "cell_type": "code",
   "execution_count": 4,
   "id": "e7dfe293",
   "metadata": {},
   "outputs": [
    {
     "name": "stdout",
     "output_type": "stream",
     "text": [
      "0.625\n"
     ]
    }
   ],
   "source": [
    "correct_count = 0\n",
    "for yt,yp in zip(l1,l2):\n",
    "    if yt == yp:\n",
    "        correct_count += 1\n",
    "correct_count = correct_count/ len(l1)\n",
    "print(correct_count)"
   ]
  },
  {
   "cell_type": "code",
   "execution_count": 2,
   "id": "fa23195c",
   "metadata": {},
   "outputs": [
    {
     "data": {
      "text/plain": [
       "0.625"
      ]
     },
     "execution_count": 2,
     "metadata": {},
     "output_type": "execute_result"
    }
   ],
   "source": [
    "train_accuracy"
   ]
  },
  {
   "cell_type": "markdown",
   "id": "8deae24c",
   "metadata": {},
   "source": [
    "# Confusion Mtrix"
   ]
  },
  {
   "cell_type": "code",
   "execution_count": 15,
   "id": "2233fe19",
   "metadata": {},
   "outputs": [],
   "source": [
    "def true_postive(l1,l2):\n",
    "    count = 0\n",
    "    for i,j in zip(l1,l2):\n",
    "        if i == 1 and j ==1:\n",
    "            count = count + 1\n",
    "    c = count/len(l1)\n",
    "    return count,c"
   ]
  },
  {
   "cell_type": "code",
   "execution_count": 16,
   "id": "5cf40845",
   "metadata": {},
   "outputs": [],
   "source": [
    "def true_negative(l1,l2):\n",
    "    count = 0\n",
    "    for i,j in zip(l1,l2):\n",
    "        if i ==0 and j ==0:\n",
    "            count = count + 1\n",
    "    c = count/len(l1)\n",
    "    return count,c"
   ]
  },
  {
   "cell_type": "code",
   "execution_count": 17,
   "id": "72b99566",
   "metadata": {},
   "outputs": [],
   "source": [
    "def false_positive(l1,l2):\n",
    "    count = 0\n",
    "    for i,j in zip(l1,l2):\n",
    "        if i ==0 and j ==1:\n",
    "            count = count + 1\n",
    "    c = count/len(l1)\n",
    "    return count,c"
   ]
  },
  {
   "cell_type": "code",
   "execution_count": 18,
   "id": "d4ceae1a",
   "metadata": {},
   "outputs": [],
   "source": [
    "def false_negative(l1,l2):\n",
    "    count = 0\n",
    "    for i,j in zip(l1,l2):\n",
    "        if i ==1 and j ==0:\n",
    "            count = count + 1\n",
    "    c = count/len(l1)\n",
    "    return count,c"
   ]
  },
  {
   "cell_type": "code",
   "execution_count": 19,
   "id": "16dfa28c",
   "metadata": {},
   "outputs": [
    {
     "name": "stdout",
     "output_type": "stream",
     "text": [
      "True Positive 2 0.25\n",
      "True Negative 2 0.375\n",
      "Fale Postive 2 0.125\n",
      "False Negative 2 0.25\n"
     ]
    }
   ],
   "source": [
    "tp , b = true_postive(l1,l2)\n",
    "print(\"True Positive\",a,b)\n",
    "tn , b = true_negative(l1,l2)\n",
    "print(\"True Negative\",a,b)\n",
    "fp , b = false_positive(l1,l2)\n",
    "print(\"Fale Postive\",a,b)\n",
    "fn , b = false_negative(l1,l2)\n",
    "print(\"False Negative\",a,b)"
   ]
  },
  {
   "cell_type": "code",
   "execution_count": 20,
   "id": "29dddc89",
   "metadata": {},
   "outputs": [
    {
     "name": "stdout",
     "output_type": "stream",
     "text": [
      "Confusion Matrix:\n",
      "[[3 1]\n",
      " [2 2]]\n"
     ]
    }
   ],
   "source": [
    "from sklearn.metrics import confusion_matrix\n",
    "\n",
    "\n",
    "# Compute confusion matrix\n",
    "cm = confusion_matrix(l1, l2)\n",
    "\n",
    "print(\"Confusion Matrix:\")\n",
    "print(cm)\n"
   ]
  },
  {
   "cell_type": "code",
   "execution_count": 21,
   "id": "a2e2b947",
   "metadata": {},
   "outputs": [],
   "source": [
    "# Accuracy\n",
    "accuracy_score = (tp+tn)/(tp+tn+fp+fn)"
   ]
  },
  {
   "cell_type": "code",
   "execution_count": 22,
   "id": "cb2eec7b",
   "metadata": {},
   "outputs": [
    {
     "data": {
      "text/plain": [
       "0.625"
      ]
     },
     "execution_count": 22,
     "metadata": {},
     "output_type": "execute_result"
    }
   ],
   "source": [
    "accuracy_score"
   ]
  },
  {
   "cell_type": "code",
   "execution_count": 23,
   "id": "27e8bbfc",
   "metadata": {},
   "outputs": [
    {
     "data": {
      "text/plain": [
       "0.625"
      ]
     },
     "execution_count": 23,
     "metadata": {},
     "output_type": "execute_result"
    }
   ],
   "source": [
    "from sklearn import metrics\n",
    "metrics.accuracy_score(l1,l2)"
   ]
  },
  {
   "cell_type": "markdown",
   "id": "3e900db4",
   "metadata": {},
   "source": [
    "# Precision"
   ]
  },
  {
   "cell_type": "code",
   "execution_count": 29,
   "id": "ce5f0292",
   "metadata": {},
   "outputs": [],
   "source": [
    "def precision(yt,yp):\n",
    "    tp,e = true_postive(yt,yp)\n",
    "    fp,r = false_positive(yt,yp)\n",
    "    ans = tp / (tp+fp)\n",
    "    return ans"
   ]
  },
  {
   "cell_type": "code",
   "execution_count": 30,
   "id": "156fe2ea",
   "metadata": {},
   "outputs": [
    {
     "name": "stdout",
     "output_type": "stream",
     "text": [
      "precision 0.6666666666666666\n"
     ]
    }
   ],
   "source": [
    "ans = precision(l1,l2)\n",
    "print(\"precision\",ans)"
   ]
  },
  {
   "cell_type": "markdown",
   "id": "9a8b0edc",
   "metadata": {},
   "source": [
    "# Recall"
   ]
  },
  {
   "cell_type": "code",
   "execution_count": 35,
   "id": "3d3d33c0",
   "metadata": {},
   "outputs": [],
   "source": [
    "def Recalll(yt,yp):\n",
    "    tp,g = true_postive(yt,yp)\n",
    "    fn,h = false_negative(yt,yp)\n",
    "    ans = tp / (tp+fn)\n",
    "    return ans"
   ]
  },
  {
   "cell_type": "code",
   "execution_count": 36,
   "id": "28bc6462",
   "metadata": {},
   "outputs": [
    {
     "name": "stdout",
     "output_type": "stream",
     "text": [
      "Recall 0.5\n"
     ]
    }
   ],
   "source": [
    "ans = Recalll(l1,l2)\n",
    "print(\"Recall\",ans)"
   ]
  },
  {
   "cell_type": "code",
   "execution_count": 37,
   "id": "5d9b64e4",
   "metadata": {},
   "outputs": [
    {
     "data": {
      "text/plain": [
       "0.4444444444444444"
      ]
     },
     "execution_count": 37,
     "metadata": {},
     "output_type": "execute_result"
    }
   ],
   "source": [
    "8 / (8+10) Precesion"
   ]
  },
  {
   "cell_type": "code",
   "execution_count": 38,
   "id": "b02ca844",
   "metadata": {},
   "outputs": [
    {
     "data": {
      "text/plain": [
       "0.8"
      ]
     },
     "execution_count": 38,
     "metadata": {},
     "output_type": "execute_result"
    }
   ],
   "source": [
    "8 / (8+2) Reacall"
   ]
  },
  {
   "cell_type": "code",
   "execution_count": 52,
   "id": "057d7915",
   "metadata": {},
   "outputs": [],
   "source": [
    "y_true = [0, 0, 0, 1, 0, 0, 0, 0, 0, 0,1, 0, 0, 0, 0, 0, 0, 0, 1, 0]\n",
    "y_pred = [0.02638412, 0.11114267, 0.31620708,0.0490937, 0.0191491, 0.17554844,0.15952202, 0.03819563, 0.11639273,0.079377, 0.08584789, 0.39095342,0.27259048, 0.03447096, 0.04644807,0.03543574, 0.18521942, 0.05934905,0.61977213, 0.33056815]"
   ]
  },
  {
   "cell_type": "code",
   "execution_count": 53,
   "id": "e7ad8788",
   "metadata": {},
   "outputs": [],
   "source": [
    "precisions = []\n",
    "recalls = []\n",
    "# how we assumed these thresholds is a long story\n",
    "thresholds = [0.0490937 , 0.05934905, 0.079377, \n",
    " 0.08584789, 0.11114267, 0.11639273, \n",
    " 0.15952202, 0.17554844, 0.18521942, \n",
    " 0.27259048, 0.31620708, 0.33056815, \n",
    " 0.39095342, 0.61977213]"
   ]
  },
  {
   "cell_type": "code",
   "execution_count": 54,
   "id": "0951650f",
   "metadata": {},
   "outputs": [],
   "source": [
    "for i in thresholds:\n",
    "    temp_prediction = [1 if x >= i else 0 for x in y_pred]"
   ]
  },
  {
   "cell_type": "code",
   "execution_count": 55,
   "id": "55c05efc",
   "metadata": {},
   "outputs": [
    {
     "data": {
      "text/plain": [
       "[0, 0, 0, 0, 0, 0, 0, 0, 0, 0, 0, 0, 0, 0, 0, 0, 0, 0, 1, 0]"
      ]
     },
     "execution_count": 55,
     "metadata": {},
     "output_type": "execute_result"
    }
   ],
   "source": [
    "temp_prediction"
   ]
  },
  {
   "cell_type": "code",
   "execution_count": 56,
   "id": "1426c2c4",
   "metadata": {},
   "outputs": [],
   "source": [
    "p = precision(y_true,temp_prediction)\n",
    "r = Recalll(y_true,temp_prediction)\n",
    "precisions.append(p)\n",
    "recalls.append(r)"
   ]
  },
  {
   "cell_type": "code",
   "execution_count": 57,
   "id": "dbd5f844",
   "metadata": {},
   "outputs": [
    {
     "data": {
      "text/plain": [
       "Text(0, 0.5, 'Precision')"
      ]
     },
     "execution_count": 57,
     "metadata": {},
     "output_type": "execute_result"
    },
    {
     "data": {
      "image/png": "[encoded data removed]",
      "text/plain": [
       "<Figure size 700x700 with 1 Axes>"
      ]
     },
     "metadata": {},
     "output_type": "display_data"
    }
   ],
   "source": [
    "import matplotlib\n",
    "import matplotlib.pyplot as plt\n",
    "import seaborn as sns\n",
    "plt.figure(figsize=(7,7))\n",
    "plt.plot(recalls,precisions)\n",
    "plt.xlabel(\"Recall\",size = 15)\n",
    "plt.ylabel(\"Precision\",size =15)"
   ]
  },
  {
   "cell_type": "code",
   "execution_count": null,
   "id": "02ddff69",
   "metadata": {},
   "outputs": [],
   "source": [
    "\n",
    "# for every threshold, calculate predictions in binary\n",
    "# and append calculated precisions and recalls\n",
    "# to their respective lists\n",
    "\n",
    "Approaching (Almost) Any Machine Learning Problem – Abhishek Thakur\n",
    "40\n",
    " p = precision(y_true, temp_prediction)\n",
    " r = recall(y_true, temp_prediction)\n",
    " precisions.append(p)\n",
    " recalls.append(r)\n",
    "═════════════════════════════════════════════════════════════════════════\n",
    "Now, we can plot these values of precisions and recalls.\n",
    "═════════════════════════════════════════════════════════════════════════\n",
    "plt.figure(figsize=(7, 7))\n",
    "plt.plot(recalls, precisions)\n",
    "plt.xlabel('Recall', fontsize=15)\n",
    "plt.ylabel('Precision', fontsize=15"
   ]
  },
  {
   "cell_type": "markdown",
   "id": "dcb8c3ec",
   "metadata": {},
   "source": [
    "# F1 score"
   ]
  },
  {
   "cell_type": "code",
   "execution_count": 60,
   "id": "828c8c26",
   "metadata": {},
   "outputs": [],
   "source": [
    "def f1(y_true, y_pred):\n",
    "    \"\"\"\n",
    "    Function to calculate f1 score\n",
    "    :param y_true: list of true values\n",
    "    :param y_pred: list of predicted values\n",
    "    :return: f1 score\n",
    "    \"\"\"\n",
    "    p = precision(y_true, y_pred)\n",
    "    r = Recalll(y_true, y_pred)\n",
    "    score = 2 * p * r / (p + r)\n",
    "    return score"
   ]
  },
  {
   "cell_type": "code",
   "execution_count": 61,
   "id": "2f0ea219",
   "metadata": {},
   "outputs": [
    {
     "data": {
      "text/plain": [
       "0.5714285714285715"
      ]
     },
     "execution_count": 61,
     "metadata": {},
     "output_type": "execute_result"
    }
   ],
   "source": [
    "y_true = [0, 0, 0, 1, 0, 0, 0, 0, 0, 0,1, 0, 0, 0, 0, 0, 0, 0, 1, 0]\n",
    "y_pred = [0, 0, 1, 0, 0, 0, 1, 0, 0, 0,1, 0, 0, 0, 0, 0, 0, 0, 1, 0]\n",
    "f1(y_true, y_pred)"
   ]
  },
  {
   "cell_type": "code",
   "execution_count": 62,
   "id": "1517112b",
   "metadata": {},
   "outputs": [
    {
     "data": {
      "text/plain": [
       "0.5714285714285715"
      ]
     },
     "execution_count": 62,
     "metadata": {},
     "output_type": "execute_result"
    }
   ],
   "source": [
    "metrics.f1_score(y_true,y_pred)"
   ]
  },
  {
   "cell_type": "code",
   "execution_count": null,
   "id": "23d601ac",
   "metadata": {},
   "outputs": [],
   "source": []
  }
 ],
 "metadata": {
  "kernelspec": {
   "display_name": "Python 3 (ipykernel)",
   "language": "python",
   "name": "python3"
  },
  "language_info": {
   "codemirror_mode": {
    "name": "ipython",
    "version": 3
   },
   "file_extension": ".py",
   "mimetype": "text/x-python",
   "name": "python",
   "nbconvert_exporter": "python",
   "pygments_lexer": "ipython3",
   "version": "3.10.9"
  }
 },
 "nbformat": 4,
 "nbformat_minor": 5
}
